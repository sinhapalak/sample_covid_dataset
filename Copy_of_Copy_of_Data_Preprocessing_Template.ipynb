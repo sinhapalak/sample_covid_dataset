{
  "nbformat": 4,
  "nbformat_minor": 0,
  "metadata": {
    "colab": {
      "provenance": [],
      "include_colab_link": true
    },
    "kernelspec": {
      "name": "python3",
      "display_name": "Python 3"
    }
  },
  "cells": [
    {
      "cell_type": "markdown",
      "metadata": {
        "id": "view-in-github",
        "colab_type": "text"
      },
      "source": [
        "<a href=\"https://colab.research.google.com/github/sinhapalak/sample_covid_dataset/blob/main/Copy_of_Copy_of_Data_Preprocessing_Template.ipynb\" target=\"_parent\"><img src=\"https://colab.research.google.com/assets/colab-badge.svg\" alt=\"Open In Colab\"/></a>"
      ]
    },
    {
      "cell_type": "markdown",
      "metadata": {
        "id": "iIDXUkMElkDd"
      },
      "source": [
        "# Data Preprocessing"
      ]
    },
    {
      "cell_type": "markdown",
      "metadata": {
        "id": "Hj40LjUilpix"
      },
      "source": [
        "## Importing the libraries"
      ]
    },
    {
      "cell_type": "code",
      "source": [
        "import numpy as np\n",
        "import matplotlib.pyplot as plt\n",
        "import pandas as pd"
      ],
      "metadata": {
        "id": "mLo-eyaAxdOM"
      },
      "execution_count": null,
      "outputs": []
    },
    {
      "cell_type": "markdown",
      "metadata": {
        "id": "zApSnwUkl9eD"
      },
      "source": [
        "## Importing Dataset"
      ]
    },
    {
      "cell_type": "code",
      "source": [
        "data_set = pd.read_csv('Covid_Data_new.csv')\n",
        "X = data_set.iloc[:, :-1].values\n",
        "Y = data_set.iloc[:, -1].values"
      ],
      "metadata": {
        "id": "reJ9pq0Xz3FO"
      },
      "execution_count": null,
      "outputs": []
    },
    {
      "cell_type": "code",
      "source": [
        "print(X)"
      ],
      "metadata": {
        "colab": {
          "base_uri": "https://localhost:8080/"
        },
        "id": "od1ca4q-2TIS",
        "outputId": "23ca6558-f690-4c12-cc1f-78dd0c312f50"
      },
      "execution_count": null,
      "outputs": [
        {
          "output_type": "stream",
          "name": "stdout",
          "text": [
            "[[10.0 'Normal' 'no' 'no' 97.0]\n",
            " [12.0 'Normal' 'no' 'no' 97.0]\n",
            " [15.0 'Normal' 'no' 'no' 94.0]\n",
            " [10.0 'Normal' 'no' 'no' 97.0]\n",
            " [13.0 'Moderate' 'no' 'no' 94.0]\n",
            " [12.0 'Moderate' 'no' 'no' 97.0]\n",
            " [13.0 'Moderate' 'no' 'no' 93.0]\n",
            " [15.0 'Moderate' 'no' 'no' 92.0]\n",
            " [18.0 'Moderate' 'no' 'no' 66.0]\n",
            " [19.0 'Normal' 'no' 'no' 92.0]\n",
            " [20.0 'Normal' 'no' 'no' 93.0]\n",
            " [17.0 'Normal' 'no' 'no' 93.0]\n",
            " [16.0 'Normal' 'no' 'no' 92.0]\n",
            " [18.0 'Normal' 'no' 'no' 93.0]\n",
            " [20.0 'Normal' 'no' 'no' 92.0]\n",
            " [25.0 'Moderate' 'no' 'no' 93.0]\n",
            " [24.0 'Moderate' 'no' 'no' 92.0]\n",
            " [26.0 'High' 'no' 'no' 94.0]\n",
            " [28.0 'Normal' 'no' 'no' 99.0]\n",
            " [29.0 'Normal' 'no' 'no' 93.0]\n",
            " [30.0 'Moderate' 'no' 'no' 62.0]\n",
            " [19.0 'Normal' 'no' 'no' 89.0]\n",
            " [25.0 'Normal' 'no' 'yes' 86.0]\n",
            " [26.0 'Normal' 'no' 'no' nan]\n",
            " [28.0 'Normal' 'no' 'no' 89.0]\n",
            " [30.0 'Moderate' 'yes' 'no' 86.0]\n",
            " [35.0 'Moderate' 'no' 'no' 89.0]\n",
            " [32.0 'Moderate' 'no' 'yes' 84.0]\n",
            " [nan 'Moderate' 'yes' 'no' 90.0]\n",
            " [32.0 'Moderate' 'no' 'no' 89.0]\n",
            " [35.0 'Moderate' 'no' 'yes' 92.0]\n",
            " [38.0 'High' 'no' 'no' 75.0]\n",
            " [40.0 'Moderate' 'no' 'yes' 90.0]\n",
            " [46.0 'High' 'yes' 'no' 91.0]\n",
            " [48.0 'Moderate' 'no' 'yes' 93.0]\n",
            " [42.0 'High' 'no' 'no' 92.0]\n",
            " [40.0 'High' 'no' 'no' 92.0]\n",
            " [49.0 'Moderate' 'no' 'no' 80.0]\n",
            " [50.0 'High' 'yes' 'yes' 77.0]\n",
            " [36.0 'High' 'yes' 'no' 90.0]\n",
            " [52.0 'High' 'yes' 'yes' 80.0]\n",
            " [56.0 'High' 'yes' 'yes' 77.0]\n",
            " [58.0 'High' 'no' 'no' 70.0]\n",
            " [59.0 'High' 'no' 'yes' 69.0]\n",
            " [60.0 'High' 'yes' 'yes' 68.0]\n",
            " [53.0 'High' 'yes' 'no' 55.0]\n",
            " [54.0 'High' 'yes' 'yes' 70.0]\n",
            " [62.0 'High' 'yes' 'yes' 68.0]\n",
            " [63.0 'High' 'yes' 'yes' 66.0]\n",
            " [68.0 'High' 'yes' 'no' 67.0]\n",
            " [69.0 'High' 'no' 'yes' 53.0]\n",
            " [64.0 'High' 'yes' 'yes' 73.0]\n",
            " [61.0 'High' 'yes' 'yes' 76.0]\n",
            " [70.0 'Normal' 'no' 'yes' 88.0]\n",
            " [59.0 'High' 'yes' 'no' 68.0]\n",
            " [62.0 'High' 'yes' 'yes' 69.0]\n",
            " [78.0 'High' 'yes' 'yes' 71.0]\n",
            " [74.0 'High' 'yes' 'yes' 75.0]\n",
            " [75.0 'High' 'no' 'yes' 72.0]\n",
            " [56.0 'High' 'yes' 'no' 76.0]\n",
            " [80.0 'High' 'no' 'yes' 92.0]\n",
            " [82.0 'High' 'yes' 'yes' 73.0]\n",
            " [86.0 'High' 'yes' 'yes' 71.0]\n",
            " [90.0 'High' 'yes' 'yes' 67.0]\n",
            " [84.0 'High' 'yes' 'yes' 75.0]\n",
            " [86.0 'High' 'no' 'yes' 76.0]\n",
            " [61.0 'Moderate' 'no' 'yes' 90.0]\n",
            " [94.0 'High' 'yes' 'yes' 64.0]\n",
            " [81.0 'High' 'yes' 'yes' 75.0]\n",
            " [76.0 'High' 'yes' 'yes' 80.0]]\n"
          ]
        }
      ]
    },
    {
      "cell_type": "code",
      "source": [
        "print(Y)"
      ],
      "metadata": {
        "id": "9hqLG5e35oBH"
      },
      "execution_count": null,
      "outputs": []
    },
    {
      "cell_type": "markdown",
      "metadata": {
        "id": "XaG0s7WjmgPU"
      },
      "source": [
        "\n",
        "\n",
        "\n",
        "## Handling Missing Data"
      ]
    },
    {
      "cell_type": "code",
      "source": [
        "from sklearn.impute import SimpleImputer\n",
        "imputer = SimpleImputer(missing_values = np.nan, strategy= 'mean')\n",
        "\n",
        "imputer.fit(X[:, 0:1])\n",
        "X[: , 0:1] = imputer.transform(X[:, 0:1])"
      ],
      "metadata": {
        "id": "2xxYfNkH5tAM"
      },
      "execution_count": null,
      "outputs": []
    },
    {
      "cell_type": "code",
      "source": [
        "imputer.fit(X[:, 4:5])\n",
        "X[: , 4:5] = imputer.transform(X[:, 4:5])"
      ],
      "metadata": {
        "id": "p5R9bKwk7OMC"
      },
      "execution_count": null,
      "outputs": []
    },
    {
      "cell_type": "code",
      "source": [
        "print(X)"
      ],
      "metadata": {
        "colab": {
          "base_uri": "https://localhost:8080/"
        },
        "id": "j3dUyZ3y8_Jn",
        "outputId": "197fe1fa-60dc-4f7b-aa9b-462acfb2036e"
      },
      "execution_count": null,
      "outputs": [
        {
          "output_type": "stream",
          "name": "stdout",
          "text": [
            "[[10.0 'Normal' 'no' 'no' 97.0]\n",
            " [12.0 'Normal' 'no' 'no' 97.0]\n",
            " [15.0 'Normal' 'no' 'no' 94.0]\n",
            " [10.0 'Normal' 'no' 'no' 97.0]\n",
            " [13.0 'Moderate' 'no' 'no' 94.0]\n",
            " [12.0 'Moderate' 'no' 'no' 97.0]\n",
            " [13.0 'Moderate' 'no' 'no' 93.0]\n",
            " [15.0 'Moderate' 'no' 'no' 92.0]\n",
            " [18.0 'Moderate' 'no' 'no' 66.0]\n",
            " [19.0 'Normal' 'no' 'no' 92.0]\n",
            " [20.0 'Normal' 'no' 'no' 93.0]\n",
            " [17.0 'Normal' 'no' 'no' 93.0]\n",
            " [16.0 'Normal' 'no' 'no' 92.0]\n",
            " [18.0 'Normal' 'no' 'no' 93.0]\n",
            " [20.0 'Normal' 'no' 'no' 92.0]\n",
            " [25.0 'Moderate' 'no' 'no' 93.0]\n",
            " [24.0 'Moderate' 'no' 'no' 92.0]\n",
            " [26.0 'High' 'no' 'no' 94.0]\n",
            " [28.0 'Normal' 'no' 'no' 99.0]\n",
            " [29.0 'Normal' 'no' 'no' 93.0]\n",
            " [30.0 'Moderate' 'no' 'no' 62.0]\n",
            " [19.0 'Normal' 'no' 'no' 89.0]\n",
            " [25.0 'Normal' 'no' 'yes' 86.0]\n",
            " [26.0 'Normal' 'no' 'no' 82.07246376811594]\n",
            " [28.0 'Normal' 'no' 'no' 89.0]\n",
            " [30.0 'Moderate' 'yes' 'no' 86.0]\n",
            " [35.0 'Moderate' 'no' 'no' 89.0]\n",
            " [32.0 'Moderate' 'no' 'yes' 84.0]\n",
            " [45.130434782608695 'Moderate' 'yes' 'no' 90.0]\n",
            " [32.0 'Moderate' 'no' 'no' 89.0]\n",
            " [35.0 'Moderate' 'no' 'yes' 92.0]\n",
            " [38.0 'High' 'no' 'no' 75.0]\n",
            " [40.0 'Moderate' 'no' 'yes' 90.0]\n",
            " [46.0 'High' 'yes' 'no' 91.0]\n",
            " [48.0 'Moderate' 'no' 'yes' 93.0]\n",
            " [42.0 'High' 'no' 'no' 92.0]\n",
            " [40.0 'High' 'no' 'no' 92.0]\n",
            " [49.0 'Moderate' 'no' 'no' 80.0]\n",
            " [50.0 'High' 'yes' 'yes' 77.0]\n",
            " [36.0 'High' 'yes' 'no' 90.0]\n",
            " [52.0 'High' 'yes' 'yes' 80.0]\n",
            " [56.0 'High' 'yes' 'yes' 77.0]\n",
            " [58.0 'High' 'no' 'no' 70.0]\n",
            " [59.0 'High' 'no' 'yes' 69.0]\n",
            " [60.0 'High' 'yes' 'yes' 68.0]\n",
            " [53.0 'High' 'yes' 'no' 55.0]\n",
            " [54.0 'High' 'yes' 'yes' 70.0]\n",
            " [62.0 'High' 'yes' 'yes' 68.0]\n",
            " [63.0 'High' 'yes' 'yes' 66.0]\n",
            " [68.0 'High' 'yes' 'no' 67.0]\n",
            " [69.0 'High' 'no' 'yes' 53.0]\n",
            " [64.0 'High' 'yes' 'yes' 73.0]\n",
            " [61.0 'High' 'yes' 'yes' 76.0]\n",
            " [70.0 'Normal' 'no' 'yes' 88.0]\n",
            " [59.0 'High' 'yes' 'no' 68.0]\n",
            " [62.0 'High' 'yes' 'yes' 69.0]\n",
            " [78.0 'High' 'yes' 'yes' 71.0]\n",
            " [74.0 'High' 'yes' 'yes' 75.0]\n",
            " [75.0 'High' 'no' 'yes' 72.0]\n",
            " [56.0 'High' 'yes' 'no' 76.0]\n",
            " [80.0 'High' 'no' 'yes' 92.0]\n",
            " [82.0 'High' 'yes' 'yes' 73.0]\n",
            " [86.0 'High' 'yes' 'yes' 71.0]\n",
            " [90.0 'High' 'yes' 'yes' 67.0]\n",
            " [84.0 'High' 'yes' 'yes' 75.0]\n",
            " [86.0 'High' 'no' 'yes' 76.0]\n",
            " [61.0 'Moderate' 'no' 'yes' 90.0]\n",
            " [94.0 'High' 'yes' 'yes' 64.0]\n",
            " [81.0 'High' 'yes' 'yes' 75.0]\n",
            " [76.0 'High' 'yes' 'yes' 80.0]]\n"
          ]
        }
      ]
    },
    {
      "cell_type": "markdown",
      "metadata": {
        "id": "o0syRbsSmkoe"
      },
      "source": [
        "## Encoding Categorical Data"
      ]
    },
    {
      "cell_type": "markdown",
      "metadata": {
        "id": "alHfpomamsVr"
      },
      "source": [
        "### Encoding independent variables"
      ]
    },
    {
      "cell_type": "code",
      "source": [
        "from sklearn.compose import ColumnTransformer\n",
        "from sklearn.preprocessing import OneHotEncoder"
      ],
      "metadata": {
        "id": "m6Pw9pIAQgN2"
      },
      "execution_count": null,
      "outputs": []
    },
    {
      "cell_type": "code",
      "source": [
        "ct = ColumnTransformer(transformers=[('encoder' ,OneHotEncoder(), [1])], remainder= 'passthrough')\n",
        "X = np.array(ct.fit_transform(X))"
      ],
      "metadata": {
        "id": "7TQRXX9GSTy-"
      },
      "execution_count": null,
      "outputs": []
    },
    {
      "cell_type": "code",
      "source": [
        "print(X)"
      ],
      "metadata": {
        "colab": {
          "base_uri": "https://localhost:8080/"
        },
        "id": "zq89yJvQTGUd",
        "outputId": "8526f41c-61c9-45bd-f32d-966a5384ce54"
      },
      "execution_count": null,
      "outputs": [
        {
          "output_type": "stream",
          "name": "stdout",
          "text": [
            "[[0.0 0.0 1.0 10.0 'no' 'no' 97.0]\n",
            " [0.0 0.0 1.0 12.0 'no' 'no' 97.0]\n",
            " [0.0 0.0 1.0 15.0 'no' 'no' 94.0]\n",
            " [0.0 0.0 1.0 10.0 'no' 'no' 97.0]\n",
            " [0.0 1.0 0.0 13.0 'no' 'no' 94.0]\n",
            " [0.0 1.0 0.0 12.0 'no' 'no' 97.0]\n",
            " [0.0 1.0 0.0 13.0 'no' 'no' 93.0]\n",
            " [0.0 1.0 0.0 15.0 'no' 'no' 92.0]\n",
            " [0.0 1.0 0.0 18.0 'no' 'no' 66.0]\n",
            " [0.0 0.0 1.0 19.0 'no' 'no' 92.0]\n",
            " [0.0 0.0 1.0 20.0 'no' 'no' 93.0]\n",
            " [0.0 0.0 1.0 17.0 'no' 'no' 93.0]\n",
            " [0.0 0.0 1.0 16.0 'no' 'no' 92.0]\n",
            " [0.0 0.0 1.0 18.0 'no' 'no' 93.0]\n",
            " [0.0 0.0 1.0 20.0 'no' 'no' 92.0]\n",
            " [0.0 1.0 0.0 25.0 'no' 'no' 93.0]\n",
            " [0.0 1.0 0.0 24.0 'no' 'no' 92.0]\n",
            " [1.0 0.0 0.0 26.0 'no' 'no' 94.0]\n",
            " [0.0 0.0 1.0 28.0 'no' 'no' 99.0]\n",
            " [0.0 0.0 1.0 29.0 'no' 'no' 93.0]\n",
            " [0.0 1.0 0.0 30.0 'no' 'no' 62.0]\n",
            " [0.0 0.0 1.0 19.0 'no' 'no' 89.0]\n",
            " [0.0 0.0 1.0 25.0 'no' 'yes' 86.0]\n",
            " [0.0 0.0 1.0 26.0 'no' 'no' 82.07246376811594]\n",
            " [0.0 0.0 1.0 28.0 'no' 'no' 89.0]\n",
            " [0.0 1.0 0.0 30.0 'yes' 'no' 86.0]\n",
            " [0.0 1.0 0.0 35.0 'no' 'no' 89.0]\n",
            " [0.0 1.0 0.0 32.0 'no' 'yes' 84.0]\n",
            " [0.0 1.0 0.0 45.130434782608695 'yes' 'no' 90.0]\n",
            " [0.0 1.0 0.0 32.0 'no' 'no' 89.0]\n",
            " [0.0 1.0 0.0 35.0 'no' 'yes' 92.0]\n",
            " [1.0 0.0 0.0 38.0 'no' 'no' 75.0]\n",
            " [0.0 1.0 0.0 40.0 'no' 'yes' 90.0]\n",
            " [1.0 0.0 0.0 46.0 'yes' 'no' 91.0]\n",
            " [0.0 1.0 0.0 48.0 'no' 'yes' 93.0]\n",
            " [1.0 0.0 0.0 42.0 'no' 'no' 92.0]\n",
            " [1.0 0.0 0.0 40.0 'no' 'no' 92.0]\n",
            " [0.0 1.0 0.0 49.0 'no' 'no' 80.0]\n",
            " [1.0 0.0 0.0 50.0 'yes' 'yes' 77.0]\n",
            " [1.0 0.0 0.0 36.0 'yes' 'no' 90.0]\n",
            " [1.0 0.0 0.0 52.0 'yes' 'yes' 80.0]\n",
            " [1.0 0.0 0.0 56.0 'yes' 'yes' 77.0]\n",
            " [1.0 0.0 0.0 58.0 'no' 'no' 70.0]\n",
            " [1.0 0.0 0.0 59.0 'no' 'yes' 69.0]\n",
            " [1.0 0.0 0.0 60.0 'yes' 'yes' 68.0]\n",
            " [1.0 0.0 0.0 53.0 'yes' 'no' 55.0]\n",
            " [1.0 0.0 0.0 54.0 'yes' 'yes' 70.0]\n",
            " [1.0 0.0 0.0 62.0 'yes' 'yes' 68.0]\n",
            " [1.0 0.0 0.0 63.0 'yes' 'yes' 66.0]\n",
            " [1.0 0.0 0.0 68.0 'yes' 'no' 67.0]\n",
            " [1.0 0.0 0.0 69.0 'no' 'yes' 53.0]\n",
            " [1.0 0.0 0.0 64.0 'yes' 'yes' 73.0]\n",
            " [1.0 0.0 0.0 61.0 'yes' 'yes' 76.0]\n",
            " [0.0 0.0 1.0 70.0 'no' 'yes' 88.0]\n",
            " [1.0 0.0 0.0 59.0 'yes' 'no' 68.0]\n",
            " [1.0 0.0 0.0 62.0 'yes' 'yes' 69.0]\n",
            " [1.0 0.0 0.0 78.0 'yes' 'yes' 71.0]\n",
            " [1.0 0.0 0.0 74.0 'yes' 'yes' 75.0]\n",
            " [1.0 0.0 0.0 75.0 'no' 'yes' 72.0]\n",
            " [1.0 0.0 0.0 56.0 'yes' 'no' 76.0]\n",
            " [1.0 0.0 0.0 80.0 'no' 'yes' 92.0]\n",
            " [1.0 0.0 0.0 82.0 'yes' 'yes' 73.0]\n",
            " [1.0 0.0 0.0 86.0 'yes' 'yes' 71.0]\n",
            " [1.0 0.0 0.0 90.0 'yes' 'yes' 67.0]\n",
            " [1.0 0.0 0.0 84.0 'yes' 'yes' 75.0]\n",
            " [1.0 0.0 0.0 86.0 'no' 'yes' 76.0]\n",
            " [0.0 1.0 0.0 61.0 'no' 'yes' 90.0]\n",
            " [1.0 0.0 0.0 94.0 'yes' 'yes' 64.0]\n",
            " [1.0 0.0 0.0 81.0 'yes' 'yes' 75.0]\n",
            " [1.0 0.0 0.0 76.0 'yes' 'yes' 80.0]]\n"
          ]
        }
      ]
    },
    {
      "cell_type": "markdown",
      "metadata": {
        "id": "VEJCi9Fgmz-n"
      },
      "source": [
        "### Encoding dependent variables"
      ]
    },
    {
      "cell_type": "code",
      "source": [
        "from sklearn.preprocessing import LabelEncoder\n",
        "le = LabelEncoder()\n",
        "Y = le.fit_transform(Y)"
      ],
      "metadata": {
        "id": "awGEKAkUUfa_"
      },
      "execution_count": null,
      "outputs": []
    },
    {
      "cell_type": "code",
      "source": [
        "print(Y)"
      ],
      "metadata": {
        "colab": {
          "base_uri": "https://localhost:8080/"
        },
        "id": "493eMRvJUv9Y",
        "outputId": "17cc37c2-66ce-4a4f-95d3-be4a12ad9440"
      },
      "execution_count": null,
      "outputs": [
        {
          "output_type": "stream",
          "name": "stdout",
          "text": [
            "[0 0 0 0 0 0 0 0 1 0 0 0 0 0 0 0 0 0 0 0 1 0 0 0 0 0 0 0 0 0 0 1 0 0 0 0 0\n",
            " 1 1 0 1 1 1 1 1 1 1 1 1 1 1 1 1 0 1 1 1 1 1 1 0 1 1 1 1 1 0 1 1 1]\n"
          ]
        }
      ]
    },
    {
      "cell_type": "markdown",
      "metadata": {
        "id": "Bfz9vcDsm7r6"
      },
      "source": [
        "## Splitting data into Test set & Training Set\n"
      ]
    },
    {
      "cell_type": "code",
      "source": [
        "from sklearn.model_selection import train_test_split\n",
        "X_train, X_test, Y_train, Y_test = train_test_split(X, Y, test_size = 0.2, random_state = 42)"
      ],
      "metadata": {
        "id": "BnldJxYeWnq2"
      },
      "execution_count": null,
      "outputs": []
    },
    {
      "cell_type": "code",
      "source": [
        "print(X_train)"
      ],
      "metadata": {
        "colab": {
          "base_uri": "https://localhost:8080/"
        },
        "id": "LxsIfyJ0XE-v",
        "outputId": "e8a5935e-e560-4ecf-8374-ec73afd84b13"
      },
      "execution_count": null,
      "outputs": [
        {
          "output_type": "stream",
          "name": "stdout",
          "text": [
            "[[1.0 0.0 0.0 86.0 'yes' 'yes' 71.0]\n",
            " [0.0 1.0 0.0 35.0 'no' 'yes' 92.0]\n",
            " [1.0 0.0 0.0 75.0 'no' 'yes' 72.0]\n",
            " [1.0 0.0 0.0 42.0 'no' 'no' 92.0]\n",
            " [1.0 0.0 0.0 74.0 'yes' 'yes' 75.0]\n",
            " [1.0 0.0 0.0 62.0 'yes' 'yes' 68.0]\n",
            " [0.0 1.0 0.0 24.0 'no' 'no' 92.0]\n",
            " [0.0 1.0 0.0 48.0 'no' 'yes' 93.0]\n",
            " [1.0 0.0 0.0 58.0 'no' 'no' 70.0]\n",
            " [0.0 1.0 0.0 45.130434782608695 'yes' 'no' 90.0]\n",
            " [0.0 1.0 0.0 15.0 'no' 'no' 92.0]\n",
            " [0.0 0.0 1.0 70.0 'no' 'yes' 88.0]\n",
            " [1.0 0.0 0.0 52.0 'yes' 'yes' 80.0]\n",
            " [1.0 0.0 0.0 60.0 'yes' 'yes' 68.0]\n",
            " [1.0 0.0 0.0 54.0 'yes' 'yes' 70.0]\n",
            " [0.0 0.0 1.0 29.0 'no' 'no' 93.0]\n",
            " [1.0 0.0 0.0 78.0 'yes' 'yes' 71.0]\n",
            " [1.0 0.0 0.0 36.0 'yes' 'no' 90.0]\n",
            " [0.0 1.0 0.0 30.0 'yes' 'no' 86.0]\n",
            " [1.0 0.0 0.0 50.0 'yes' 'yes' 77.0]\n",
            " [0.0 0.0 1.0 18.0 'no' 'no' 93.0]\n",
            " [1.0 0.0 0.0 69.0 'no' 'yes' 53.0]\n",
            " [0.0 0.0 1.0 10.0 'no' 'no' 97.0]\n",
            " [1.0 0.0 0.0 26.0 'no' 'no' 94.0]\n",
            " [0.0 1.0 0.0 18.0 'no' 'no' 66.0]\n",
            " [1.0 0.0 0.0 62.0 'yes' 'yes' 69.0]\n",
            " [0.0 1.0 0.0 13.0 'no' 'no' 93.0]\n",
            " [1.0 0.0 0.0 40.0 'no' 'no' 92.0]\n",
            " [1.0 0.0 0.0 84.0 'yes' 'yes' 75.0]\n",
            " [1.0 0.0 0.0 76.0 'yes' 'yes' 80.0]\n",
            " [1.0 0.0 0.0 81.0 'yes' 'yes' 75.0]\n",
            " [0.0 1.0 0.0 25.0 'no' 'no' 93.0]\n",
            " [0.0 1.0 0.0 32.0 'no' 'yes' 84.0]\n",
            " [1.0 0.0 0.0 56.0 'yes' 'yes' 77.0]\n",
            " [0.0 1.0 0.0 35.0 'no' 'no' 89.0]\n",
            " [1.0 0.0 0.0 63.0 'yes' 'yes' 66.0]\n",
            " [0.0 0.0 1.0 28.0 'no' 'no' 89.0]\n",
            " [1.0 0.0 0.0 56.0 'yes' 'no' 76.0]\n",
            " [1.0 0.0 0.0 90.0 'yes' 'yes' 67.0]\n",
            " [0.0 0.0 1.0 17.0 'no' 'no' 93.0]\n",
            " [0.0 1.0 0.0 40.0 'no' 'yes' 90.0]\n",
            " [0.0 1.0 0.0 61.0 'no' 'yes' 90.0]\n",
            " [1.0 0.0 0.0 82.0 'yes' 'yes' 73.0]\n",
            " [0.0 1.0 0.0 49.0 'no' 'no' 80.0]\n",
            " [0.0 1.0 0.0 32.0 'no' 'no' 89.0]\n",
            " [1.0 0.0 0.0 59.0 'no' 'yes' 69.0]\n",
            " [1.0 0.0 0.0 86.0 'no' 'yes' 76.0]\n",
            " [0.0 0.0 1.0 12.0 'no' 'no' 97.0]\n",
            " [1.0 0.0 0.0 61.0 'yes' 'yes' 76.0]\n",
            " [0.0 0.0 1.0 19.0 'no' 'no' 89.0]\n",
            " [0.0 0.0 1.0 15.0 'no' 'no' 94.0]\n",
            " [0.0 0.0 1.0 26.0 'no' 'no' 82.07246376811594]\n",
            " [0.0 1.0 0.0 30.0 'no' 'no' 62.0]\n",
            " [1.0 0.0 0.0 80.0 'no' 'yes' 92.0]\n",
            " [0.0 0.0 1.0 20.0 'no' 'no' 92.0]\n",
            " [1.0 0.0 0.0 64.0 'yes' 'yes' 73.0]]\n"
          ]
        }
      ]
    },
    {
      "cell_type": "markdown",
      "metadata": {
        "id": "a5uoHf8MsQG0"
      },
      "source": [
        "## Feature Scaling"
      ]
    },
    {
      "cell_type": "code",
      "source": [
        "from sklearn.preprocessing import StandardScaler\n",
        "sc = StandardScaler()\n",
        "X_train[:, 6:] = sc.fit_transform(X_train[:, 6:])\n",
        "X_test[:, 6:] = sc.fit_transform(X_test[:, 6:])"
      ],
      "metadata": {
        "id": "231UZpK-ZXZx"
      },
      "execution_count": null,
      "outputs": []
    },
    {
      "cell_type": "code",
      "source": [
        "print(X_train)"
      ],
      "metadata": {
        "colab": {
          "base_uri": "https://localhost:8080/"
        },
        "id": "VHoiCBmMaD3A",
        "outputId": "d7eef2a2-0499-476f-cd6f-049a51045c33"
      },
      "execution_count": null,
      "outputs": [
        {
          "output_type": "stream",
          "name": "stdout",
          "text": [
            "[[1.0 0.0 0.0 86.0 'yes' 'yes' -0.9941858494300261]\n",
            " [0.0 1.0 0.0 35.0 'no' 'yes' 0.9574354145081887]\n",
            " [1.0 0.0 0.0 75.0 'no' 'yes' -0.9012515035282064]\n",
            " [1.0 0.0 0.0 42.0 'no' 'no' 0.9574354145081887]\n",
            " [1.0 0.0 0.0 74.0 'yes' 'yes' -0.6224484658227472]\n",
            " [1.0 0.0 0.0 62.0 'yes' 'yes' -1.2729888871354853]\n",
            " [0.0 1.0 0.0 24.0 'no' 'no' 0.9574354145081887]\n",
            " [0.0 1.0 0.0 48.0 'no' 'yes' 1.0503697604100084]\n",
            " [1.0 0.0 0.0 58.0 'no' 'no' -1.087120195331846]\n",
            " [0.0 1.0 0.0 45.130434782608695 'yes' 'no' 0.7715667227045492]\n",
            " [0.0 1.0 0.0 15.0 'no' 'no' 0.9574354145081887]\n",
            " [0.0 0.0 1.0 70.0 'no' 'yes' 0.5856980309009097]\n",
            " [1.0 0.0 0.0 52.0 'yes' 'yes' -0.15777673631364833]\n",
            " [1.0 0.0 0.0 60.0 'yes' 'yes' -1.2729888871354853]\n",
            " [1.0 0.0 0.0 54.0 'yes' 'yes' -1.087120195331846]\n",
            " [0.0 0.0 1.0 29.0 'no' 'no' 1.0503697604100084]\n",
            " [1.0 0.0 0.0 78.0 'yes' 'yes' -0.9941858494300261]\n",
            " [1.0 0.0 0.0 36.0 'yes' 'no' 0.7715667227045492]\n",
            " [0.0 1.0 0.0 30.0 'yes' 'no' 0.3998293390972702]\n",
            " [1.0 0.0 0.0 50.0 'yes' 'yes' -0.4365797740191076]\n",
            " [0.0 0.0 1.0 18.0 'no' 'no' 1.0503697604100084]\n",
            " [1.0 0.0 0.0 69.0 'no' 'yes' -2.6670040756627817]\n",
            " [0.0 0.0 1.0 10.0 'no' 'no' 1.4221071440172874]\n",
            " [1.0 0.0 0.0 26.0 'no' 'no' 1.143304106311828]\n",
            " [0.0 1.0 0.0 18.0 'no' 'no' -1.458857578939125]\n",
            " [1.0 0.0 0.0 62.0 'yes' 'yes' -1.1800545412336656]\n",
            " [0.0 1.0 0.0 13.0 'no' 'no' 1.0503697604100084]\n",
            " [1.0 0.0 0.0 40.0 'no' 'no' 0.9574354145081887]\n",
            " [1.0 0.0 0.0 84.0 'yes' 'yes' -0.6224484658227472]\n",
            " [1.0 0.0 0.0 76.0 'yes' 'yes' -0.15777673631364833]\n",
            " [1.0 0.0 0.0 81.0 'yes' 'yes' -0.6224484658227472]\n",
            " [0.0 1.0 0.0 25.0 'no' 'no' 1.0503697604100084]\n",
            " [0.0 1.0 0.0 32.0 'no' 'yes' 0.21396064729363068]\n",
            " [1.0 0.0 0.0 56.0 'yes' 'yes' -0.4365797740191076]\n",
            " [0.0 1.0 0.0 35.0 'no' 'no' 0.6786323768027295]\n",
            " [1.0 0.0 0.0 63.0 'yes' 'yes' -1.458857578939125]\n",
            " [0.0 0.0 1.0 28.0 'no' 'no' 0.6786323768027295]\n",
            " [1.0 0.0 0.0 56.0 'yes' 'no' -0.5295141199209273]\n",
            " [1.0 0.0 0.0 90.0 'yes' 'yes' -1.3659232330373052]\n",
            " [0.0 0.0 1.0 17.0 'no' 'no' 1.0503697604100084]\n",
            " [0.0 1.0 0.0 40.0 'no' 'yes' 0.7715667227045492]\n",
            " [0.0 1.0 0.0 61.0 'no' 'yes' 0.7715667227045492]\n",
            " [1.0 0.0 0.0 82.0 'yes' 'yes' -0.8083171576263867]\n",
            " [0.0 1.0 0.0 49.0 'no' 'no' -0.15777673631364833]\n",
            " [0.0 1.0 0.0 32.0 'no' 'no' 0.6786323768027295]\n",
            " [1.0 0.0 0.0 59.0 'no' 'yes' -1.1800545412336656]\n",
            " [1.0 0.0 0.0 86.0 'no' 'yes' -0.5295141199209273]\n",
            " [0.0 0.0 1.0 12.0 'no' 'no' 1.4221071440172874]\n",
            " [1.0 0.0 0.0 61.0 'yes' 'yes' -0.5295141199209273]\n",
            " [0.0 0.0 1.0 19.0 'no' 'no' 0.6786323768027295]\n",
            " [0.0 0.0 1.0 15.0 'no' 'no' 1.143304106311828]\n",
            " [0.0 0.0 1.0 26.0 'no' 'no' 0.034826328381427]\n",
            " [0.0 1.0 0.0 30.0 'no' 'no' -1.830594962546404]\n",
            " [1.0 0.0 0.0 80.0 'no' 'yes' 0.9574354145081887]\n",
            " [0.0 0.0 1.0 20.0 'no' 'no' 0.9574354145081887]\n",
            " [1.0 0.0 0.0 64.0 'yes' 'yes' -0.8083171576263867]]\n"
          ]
        }
      ]
    }
  ]
}